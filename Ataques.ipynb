{
 "cells": [
  {
   "cell_type": "markdown",
   "id": "incorporate-torture",
   "metadata": {},
   "source": [
    "<h1 style = \"text-align:center\">Programación Concurrente y Distribuida </h1>\n",
    "\n",
    "<a href=\"https://github.com/Jogito98\">\n",
    "\n",
    "  <img src=\"C:\\Users\\Jogito\\Desktop\\cara.PNG\" title = \"Jorge Flores Chancay 21535220\" alt=\"Christian Vladimir Sucuzhanay Arevalo\" width=\"100\" height=\"100\" style=\"float:left;vertical-alig:middle\">\n",
    "\n",
    "  <img src=\"C:\\Users\\Jogito\\Desktop\\uem.png\" title=\"M21\" alt=\"UE\" width=\"105\" height=\"105\" style=\"float:right;vertical-alig:middle\">"
   ]
  },
  {
   "cell_type": "markdown",
   "id": "powered-diving",
   "metadata": {},
   "source": [
    "##2.Cree un programa para determinar :\n",
    "\n",
    "a)El numero de proceso que lo maneja y cuantos procesos estan activos"
   ]
  },
  {
   "cell_type": "code",
   "execution_count": null,
   "id": "handmade-marijuana",
   "metadata": {},
   "outputs": [],
   "source": [
    "import os\n",
    "# importamos los modulos de comunicación con el OS.\n",
    "import threading\n",
    "import requests ## importarmos modulo para poder atacar"
   ]
  },
  {
   "cell_type": "code",
   "execution_count": null,
   "id": "pressing-mortgage",
   "metadata": {},
   "outputs": [],
   "source": [
    "print(\"Proceso lanzado:\",os.getpid())"
   ]
  },
  {
   "cell_type": "code",
   "execution_count": null,
   "id": "third-geometry",
   "metadata": {},
   "outputs": [],
   "source": [
    "#El proceso lanzado es python.exe con 9 subprocesos"
   ]
  },
  {
   "cell_type": "code",
   "execution_count": null,
   "id": "synthetic-purse",
   "metadata": {},
   "outputs": [],
   "source": [
    "def cpu():\n",
    "    while True:\n",
    "        pass\n"
   ]
  },
  {
   "cell_type": "markdown",
   "id": "compressed-street",
   "metadata": {},
   "source": [
    "##b)Cuantos hilos activos tienen lanzados en este momento ?"
   ]
  },
  {
   "cell_type": "code",
   "execution_count": null,
   "id": "generic-location",
   "metadata": {},
   "outputs": [],
   "source": [
    "print(\"Los hilos lanzados son: \", threading.active_count())"
   ]
  },
  {
   "cell_type": "markdown",
   "id": "configured-badge",
   "metadata": {},
   "source": [
    "##c)Cuántos cores lógicos tiene su equipo ?"
   ]
  },
  {
   "cell_type": "code",
   "execution_count": null,
   "id": "similar-windsor",
   "metadata": {},
   "outputs": [],
   "source": [
    "print(\"Los cores lógicos son: \", os.cpu_count())"
   ]
  },
  {
   "cell_type": "code",
   "execution_count": null,
   "id": "interstate-interval",
   "metadata": {},
   "outputs": [],
   "source": [
    "## d) cores físicos son 4 esto se sabe debido a que los cores lógicos son el doble de los físicos"
   ]
  },
  {
   "cell_type": "code",
   "execution_count": null,
   "id": "prescribed-simpson",
   "metadata": {},
   "outputs": [],
   "source": [
    "## e) Enumere e identifique los hilos lanzados:"
   ]
  },
  {
   "cell_type": "code",
   "execution_count": null,
   "id": "introductory-amplifier",
   "metadata": {},
   "outputs": [],
   "source": [
    "for t in threading.enumerate():\n",
    "    print(t)"
   ]
  },
  {
   "cell_type": "code",
   "execution_count": null,
   "id": "convinced-church",
   "metadata": {},
   "outputs": [],
   "source": [
    "## Funciones para atacar nombradas como el objetivo"
   ]
  },
  {
   "cell_type": "code",
   "execution_count": null,
   "id": "wired-background",
   "metadata": {},
   "outputs": [],
   "source": [
    "def git():\n",
    "    print(requests.get('https://github.com/sukuzhanay'))\n",
    "    print('hilo lanzado con id: ', threading.current_thread().getName())"
   ]
  },
  {
   "cell_type": "code",
   "execution_count": null,
   "id": "electrical-pepper",
   "metadata": {},
   "outputs": [],
   "source": [
    "print ('\\nAtaque usando 20 hilos')\n",
    "for i in range(20):\n",
    "    threading.Thread(target=git).start()"
   ]
  },
  {
   "cell_type": "code",
   "execution_count": null,
   "id": "specified-ownership",
   "metadata": {},
   "outputs": [],
   "source": [
    "def youtube():\n",
    "    print(requests.get('https://www.youtube.com/channel/UCEXbXdeafAjBahYK2hoQJFg'))\n",
    "    print('hilo lanzado con id: ', threading.current_thread().getName())"
   ]
  },
  {
   "cell_type": "code",
   "execution_count": null,
   "id": "centered-jacob",
   "metadata": {},
   "outputs": [],
   "source": [
    "print ('\\nAtaque usando 30 hilos')\n",
    "for i in range(30):\n",
    "    threading.Thread(target=youtube).start()"
   ]
  },
  {
   "cell_type": "code",
   "execution_count": null,
   "id": "minute-operations",
   "metadata": {},
   "outputs": [],
   "source": [
    "def pubs():\n",
    "    print(requests.get('https://rpubs.com/christian_sucuzhanay'))\n",
    "    print('hilo lanzado con id: ', threading.current_thread().getName())"
   ]
  },
  {
   "cell_type": "code",
   "execution_count": null,
   "id": "cathedral-retro",
   "metadata": {},
   "outputs": [],
   "source": [
    "print ('\\nAtaque usando 50 hilos')\n",
    "for i in range(50):\n",
    "    threading.Thread(target=pubs).start()"
   ]
  },
  {
   "cell_type": "code",
   "execution_count": null,
   "id": "hawaiian-cocktail",
   "metadata": {},
   "outputs": [],
   "source": [
    "print ('\\nAtaque usando 100 hilos')\n",
    "for i in range(100):\n",
    "    threading.Thread(target=pubs).start()"
   ]
  },
  {
   "cell_type": "code",
   "execution_count": null,
   "id": "inner-trading",
   "metadata": {},
   "outputs": [],
   "source": [
    "def kaggle():\n",
    "    print(requests.get('https://www.kaggle.com/sukuzhanay'))\n",
    "    print('hilo lanzado con id: ', threading.current_thread().getName())"
   ]
  },
  {
   "cell_type": "code",
   "execution_count": null,
   "id": "handy-tennis",
   "metadata": {},
   "outputs": [],
   "source": [
    "print ('\\nAtaque usando 200 hilos')\n",
    "for i in range(200):\n",
    "    threading.Thread(target=kaggle).start()"
   ]
  },
  {
   "cell_type": "code",
   "execution_count": null,
   "id": "canadian-birmingham",
   "metadata": {},
   "outputs": [],
   "source": [
    "def stack():\n",
    "    print(requests.get('https://stackoverflow.com/story/christian-sucuzhanay-arevalo'))\n",
    "    print('hilo lanzado con id: ', threading.current_thread().getName())"
   ]
  },
  {
   "cell_type": "code",
   "execution_count": null,
   "id": "vulnerable-brand",
   "metadata": {},
   "outputs": [],
   "source": [
    "print ('\\nAtaque usando 300 hilos')\n",
    "for i in range(300):\n",
    "    threading.Thread(target=stack).start()"
   ]
  },
  {
   "cell_type": "code",
   "execution_count": null,
   "id": "exempt-terrain",
   "metadata": {},
   "outputs": [],
   "source": [
    "def eburnout():\n",
    "    print(requests.get('https://eburnout.com/'))\n",
    "    print('hilo lanzado con id: ', threading.current_thread().getName())"
   ]
  },
  {
   "cell_type": "code",
   "execution_count": null,
   "id": "advised-blocking",
   "metadata": {},
   "outputs": [],
   "source": [
    "print ('\\nAtaque usando 400 hilos')\n",
    "for i in range(400):\n",
    "    threading.Thread(target=eburnout).start()"
   ]
  },
  {
   "cell_type": "code",
   "execution_count": null,
   "id": "green-lounge",
   "metadata": {},
   "outputs": [],
   "source": [
    "## ¿Qué páginas logró \"tumbar\"?\n",
    "    ## No logré tumbar ninguna"
   ]
  }
 ],
 "metadata": {
  "kernelspec": {
   "display_name": "Python 3",
   "language": "python",
   "name": "python3"
  },
  "language_info": {
   "codemirror_mode": {
    "name": "ipython",
    "version": 3
   },
   "file_extension": ".py",
   "mimetype": "text/x-python",
   "name": "python",
   "nbconvert_exporter": "python",
   "pygments_lexer": "ipython3",
   "version": "3.8.5"
  }
 },
 "nbformat": 4,
 "nbformat_minor": 5,
 "REVISADO"
}
