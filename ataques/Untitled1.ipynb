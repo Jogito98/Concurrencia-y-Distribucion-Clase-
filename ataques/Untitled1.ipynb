{
 "cells": [
  {
   "cell_type": "markdown",
   "id": "north-level",
   "metadata": {},
   "source": [
    "<h1 style = \"text-align:center\">Programación Concurrente y Distribuida </h1>\n",
    "\n",
    "<a href=\"https://github.com/Jogito98\">\n",
    "\n",
    "  <img src=\"https://github.com/Jogito98/Concurrencia-y-Distribucion-Clase-/blob/master/cara.PNG\" title = \"Jorge Flores Chancay 21535220\" alt=\"Jorge Asdrubal Flores Chancay\" width=\"100\" height=\"100\" style=\"float:left;vertical-alig:middle\">\n",
    "\n",
    "  <img src=\"https://1000marcas.net/wp-content/uploads/2019/12/UEM-simbolo.jpg\" title=\"M21\" alt=\"UE\" width=\"105\" height=\"105\" style=\"float:right;vertical-alig:middle\">"
   ]
  },
  {
   "cell_type": "code",
   "execution_count": 1,
   "id": "offshore-party",
   "metadata": {},
   "outputs": [],
   "source": [
    "import threading\n",
    "import requests ## importarmos modulo para poder atacar"
   ]
  },
  {
   "cell_type": "code",
   "execution_count": 2,
   "id": "grateful-valuation",
   "metadata": {},
   "outputs": [],
   "source": [
    "## Funciones para atacar nombradas como el objetivo"
   ]
  },
  {
   "cell_type": "code",
   "execution_count": 3,
   "id": "threatened-atmosphere",
   "metadata": {},
   "outputs": [
    {
     "data": {
      "text/plain": [
       "b'si ves esto esd que has hecho bien este punto\\n\\n1 https://eburnout.com/#us\\n2 https://www.kaggle.com/sukuzhanay\\n3 https://www.kaggle.com/sukuzhanay/discussion\\n4 https://google.qwiklabs.com/public_profiles/c094dd66-f266-4f77-a808-a0601b187009\\n5 https://developers.google.com/profile/u/113900657330137227361\\n6 https://anaconda.org/sukuzhanay\\n7 https://stackoverflow.com/users/6025932/christian-vladimir-sucuzhanay\\n8 https://github.com/sukuzhanay\\n9 https://www.unicoos.com/testimonios/page:29\\n10 https://rpubs.com/christian_sucuzhanay/701561\\n11 https://rpubs.com/christian_sucuzhanay/estaciones\\n12 https://g.page/r/CYwda-YNE08qEAE\\n13 https://appadvice.com/app/eburnout/1387560959\\n14 https://stackoverflow.com/story/christian-sucuzhanay-arevalo\\n15 https://christianvladimirsucuzhanay.wordpress.com/2016/01/27/como-hablar-en-publico/comment-page-1/\\n16 https://sites.google.com/view/www-tengounokupa-com/home\\n17 https://www.youtube.com/channel/UCEXbXdeafAjBahYK2hoQJFg\\n'"
      ]
     },
     "execution_count": 3,
     "metadata": {},
     "output_type": "execute_result"
    }
   ],
   "source": [
    "contenido=requests.get('https://storage.googleapis.com/examenparcial/cris.txt')\n",
    "contenido.content"
   ]
  },
  {
   "cell_type": "code",
   "execution_count": 4,
   "id": "weird-monkey",
   "metadata": {},
   "outputs": [],
   "source": [
    "def eburnout():\n",
    "    print(requests.get('https://eburnout.com/#us'))\n",
    "    print('hilo lanzado con id: ', threading.current_thread().getName())"
   ]
  },
  {
   "cell_type": "code",
   "execution_count": 5,
   "id": "coupled-seafood",
   "metadata": {},
   "outputs": [
    {
     "name": "stdout",
     "output_type": "stream",
     "text": [
      "\n",
      "Ataque usando 10 hilos\n",
      "<Response [200]>\n",
      "hilo lanzado con id:  Thread-10\n",
      "<Response [200]>\n",
      "hilo lanzado con id:  Thread-8\n",
      "<Response [200]>\n",
      "hilo lanzado con id:  Thread-11\n",
      "<Response [200]>\n",
      "<Response [200]>\n",
      "hilo lanzado con id:  Thread-6\n",
      "hilo lanzado con id: <Response [200]>\n",
      "hilo lanzado con id:  Thread-13\n",
      "<Response [200]>\n",
      "hilo lanzado con id:  Thread-7\n",
      " Thread-9\n",
      "<Response [200]>\n",
      "hilo lanzado con id:  Thread-14\n",
      "<Response [200]><Response [200]>\n",
      "hilo lanzado con id:  Thread-12\n",
      "\n",
      "hilo lanzado con id:  Thread-15\n"
     ]
    }
   ],
   "source": [
    "print ('\\nAtaque usando 10 hilos')\n",
    "for i in range(10):\n",
    "    threading.Thread(target=eburnout).start()"
   ]
  },
  {
   "cell_type": "code",
   "execution_count": 6,
   "id": "recognized-rogers",
   "metadata": {},
   "outputs": [],
   "source": [
    "def kaggle():\n",
    "    print(requests.get('https://www.kaggle.com/sukuzhanay'))\n",
    "    print('hilo lanzado con id: ', threading.current_thread().getName())"
   ]
  },
  {
   "cell_type": "code",
   "execution_count": 7,
   "id": "floppy-punch",
   "metadata": {},
   "outputs": [
    {
     "name": "stdout",
     "output_type": "stream",
     "text": [
      "\n",
      "Ataque usando 30 hilos\n",
      "<Response [200]>\n",
      "hilo lanzado con id:  Thread-16\n",
      "<Response [200]>\n",
      "hilo lanzado con id:  Thread-17\n",
      "<Response [200]>\n",
      "hilo lanzado con id:  Thread-22\n",
      "<Response [200]>\n",
      "hilo lanzado con id:  Thread-23\n",
      "<Response [200]><Response [200]>\n",
      "\n",
      "hilo lanzado con id:  Thread-26\n",
      "hilo lanzado con id:  Thread-19\n",
      "<Response [200]>\n",
      "hilo lanzado con id:  Thread-25\n",
      "<Response [200]>\n",
      "hilo lanzado con id:  Thread-24\n",
      "<Response [200]>\n",
      "<Response [200]>hilo lanzado con id: <Response [200]>\n",
      " hilo lanzado con id:  Thread-27\n",
      "Thread-31\n",
      "\n",
      "hilo lanzado con id:  Thread-20\n",
      "<Response [200]>\n",
      "hilo lanzado con id:  Thread-18\n",
      "<Response [200]>\n",
      "hilo lanzado con id:  Thread-21\n",
      "<Response [200]>\n",
      "hilo lanzado con id:  Thread-40\n",
      "<Response [200]>\n",
      "hilo lanzado con id:  Thread-36\n",
      "<Response [200]>\n",
      "hilo lanzado con id:  Thread-44\n",
      "<Response [200]>\n",
      "hilo lanzado con id:  Thread-45\n",
      "<Response [200]>\n",
      "hilo lanzado con id:  Thread-39\n",
      "<Response [200]>\n",
      "hilo lanzado con id:  Thread-38\n",
      "<Response [200]>\n",
      "<Response [200]>\n",
      "hilo lanzado con id: hilo lanzado con id:  Thread-37\n",
      " Thread-29\n",
      "<Response [200]><Response [200]>\n",
      "hilo lanzado con id:  Thread-28\n",
      "\n",
      "hilo lanzado con id:  Thread-35\n",
      "<Response [200]>\n",
      "hilo lanzado con id:  Thread-32\n",
      "<Response [200]>\n",
      "hilo lanzado con id:  Thread-34\n",
      "<Response [200]>\n",
      "hilo lanzado con id:  Thread-42\n",
      "<Response [200]>\n",
      "hilo lanzado con id:  Thread-30\n",
      "<Response [200]>\n",
      "hilo lanzado con id:  Thread-41\n",
      "<Response [200]>\n",
      "hilo lanzado con id:  Thread-43\n",
      "<Response [200]>\n",
      "hilo lanzado con id:  Thread-33\n"
     ]
    }
   ],
   "source": [
    "print ('\\nAtaque usando 30 hilos')\n",
    "for i in range(30):\n",
    "    threading.Thread(target=kaggle).start()"
   ]
  },
  {
   "cell_type": "code",
   "execution_count": 8,
   "id": "material-newton",
   "metadata": {},
   "outputs": [],
   "source": [
    "def google():\n",
    "    print(requests.get('https://google.qwiklabs.com/public_profiles/c094dd66-f266-4f77-a808-a0601b187009'))\n",
    "    print('hilo lanzado con id: ', threading.current_thread().getName())"
   ]
  },
  {
   "cell_type": "code",
   "execution_count": 9,
   "id": "geographic-trace",
   "metadata": {},
   "outputs": [
    {
     "name": "stdout",
     "output_type": "stream",
     "text": [
      "\n",
      "Ataque usando 5 hilos\n",
      "<Response [200]>\n",
      "hilo lanzado con id:  Thread-47\n",
      "<Response [200]>\n",
      "hilo lanzado con id:  Thread-50\n",
      "<Response [200]>\n",
      "hilo lanzado con id:  Thread-48\n",
      "<Response [200]>\n",
      "hilo lanzado con id:  Thread-46\n",
      "<Response [200]>\n",
      "hilo lanzado con id:  Thread-49\n"
     ]
    }
   ],
   "source": [
    "print ('\\nAtaque usando 5 hilos')\n",
    "for i in range(5):\n",
    "    threading.Thread(target=google).start()"
   ]
  },
  {
   "cell_type": "code",
   "execution_count": 10,
   "id": "lesser-orientation",
   "metadata": {},
   "outputs": [],
   "source": [
    "def anaconda():\n",
    "    print(requests.get('https://anaconda.org/sukuzhanay'))\n",
    "    print('hilo lanzado con id: ', threading.current_thread().getName())"
   ]
  },
  {
   "cell_type": "code",
   "execution_count": 11,
   "id": "beautiful-worst",
   "metadata": {},
   "outputs": [
    {
     "name": "stdout",
     "output_type": "stream",
     "text": [
      "\n",
      "Ataque usando 50 hilos\n",
      "<Response [200]>\n",
      "hilo lanzado con id:  Thread-52\n",
      "<Response [200]>\n",
      "hilo lanzado con id:  Thread-51\n",
      "<Response [200]>\n",
      "hilo lanzado con id:  Thread-61\n",
      "<Response [200]>\n",
      "hilo lanzado con id:  Thread-53\n",
      "<Response [200]>\n",
      "hilo lanzado con id:  Thread-59\n",
      "<Response [200]>\n",
      "hilo lanzado con id:  Thread-54\n",
      "<Response [200]>\n",
      "hilo lanzado con id:  Thread-60\n",
      "<Response [200]>\n",
      "hilo lanzado con id:  Thread-65<Response [200]>\n",
      "\n",
      "hilo lanzado con id:  Thread-71\n",
      "<Response [200]>\n",
      "hilo lanzado con id:  Thread-69\n",
      "<Response [200]>\n",
      "<Response [200]>\n",
      "hilo lanzado con id:  Thread-73\n",
      "<Response [200]>hilo lanzado con id: \n",
      "hilo lanzado con id:  Thread-72\n",
      " Thread-63\n",
      "<Response [200]>\n",
      "hilo lanzado con id:  Thread-67\n",
      "<Response [200]>\n",
      "hilo lanzado con id:  Thread-76\n",
      "<Response [200]>\n",
      "hilo lanzado con id:  Thread-64\n",
      "<Response [200]>\n",
      "hilo lanzado con id:  Thread-66\n",
      "<Response [200]>\n",
      "hilo lanzado con id:  Thread-78\n",
      "<Response [200]>\n",
      "hilo lanzado con id:  Thread-77\n",
      "<Response [200]>\n",
      "hilo lanzado con id: <Response [200]>\n",
      "hilo lanzado con id:  Thread-75\n",
      " Thread-74\n",
      "<Response [200]>\n",
      "hilo lanzado con id:  Thread-79\n",
      "<Response [200]><Response [200]><Response [200]>\n",
      "\n",
      "hilo lanzado con id:  Thread-82\n",
      "<Response [200]>hilo lanzado con id: \n",
      "\n",
      " Thread-83\n",
      "hilo lanzado con id: hilo lanzado con id: <Response [200]> Thread-80\n",
      "\n",
      " <Response [200]><Response [200]>\n",
      "hilo lanzado con id: Thread-81<Response [200]>\n",
      "\n",
      " hilo lanzado con id: \n",
      "Thread-58\n",
      "hilo lanzado con id: hilo lanzado con id:    Thread-85Thread-86\n",
      "Thread-84<Response [200]>\n",
      "hilo lanzado con id:  Thread-87\n",
      "\n",
      "\n",
      "<Response [200]><Response [200]><Response [200]>\n",
      "hilo lanzado con id:  Thread-90\n",
      "\n",
      "\n",
      "<Response [200]>\n",
      "hilo lanzado con id:  Thread-88\n",
      "hilo lanzado con id: <Response [200]> \n",
      "hilo lanzado con id:  Thread-96\n",
      "hilo lanzado con id: <Response [200]><Response [200]>Thread-91 Thread-68\n",
      "\n",
      "\n",
      "<Response [200]><Response [200]>\n",
      "hilo lanzado con id:  Thread-99\n",
      "hilo lanzado con id: <Response [200]>\n",
      "\n",
      "<Response [200]><Response [200]>\n",
      " hilo lanzado con id: <Response [200]>\n",
      "hilo lanzado con id: \n",
      "hilo lanzado con id: Thread-70hilo lanzado con id:    Thread-62\n",
      "Thread-92\n",
      "Thread-97\n",
      "\n",
      " <Response [200]>\n",
      "hilo lanzado con id: hilo lanzado con id:  Thread-95\n",
      " Thread-93\n",
      "Thread-94\n",
      "hilo lanzado con id:  Thread-100\n",
      "<Response [200]>\n",
      "<Response [200]>\n",
      "\n",
      "hilo lanzado con id:  Thread-98\n",
      "hilo lanzado con id:  Thread-89\n",
      "<Response [200]>\n",
      "hilo lanzado con id:  Thread-56\n",
      "<Response [200]>\n",
      "hilo lanzado con id:  Thread-57\n",
      "<Response [200]>\n",
      "hilo lanzado con id:  Thread-55\n"
     ]
    }
   ],
   "source": [
    "print ('\\nAtaque usando 50 hilos')\n",
    "for i in range(50):\n",
    "    threading.Thread(target=anaconda).start()"
   ]
  },
  {
   "cell_type": "code",
   "execution_count": 12,
   "id": "threatened-courtesy",
   "metadata": {},
   "outputs": [],
   "source": [
    "#Pregunta 10\n",
    "#No se ha tumbado ninguna página"
   ]
  },
  {
   "cell_type": "code",
   "execution_count": null,
   "id": "better-nancy",
   "metadata": {},
   "outputs": [],
   "source": []
  }
 ],
 "metadata": {
  "kernelspec": {
   "display_name": "Python 3",
   "language": "python",
   "name": "python3"
  },
  "language_info": {
   "codemirror_mode": {
    "name": "ipython",
    "version": 3
   },
   "file_extension": ".py",
   "mimetype": "text/x-python",
   "name": "python",
   "nbconvert_exporter": "python",
   "pygments_lexer": "ipython3",
   "version": "3.8.5"
  }
 },
 "nbformat": 4,
 "nbformat_minor": 5
}
